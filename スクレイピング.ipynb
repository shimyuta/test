{
  "nbformat": 4,
  "nbformat_minor": 0,
  "metadata": {
    "colab": {
      "name": "スクレイピング.ipynb",
      "version": "0.3.2",
      "provenance": [],
      "include_colab_link": true
    },
    "kernelspec": {
      "name": "python2",
      "display_name": "Python 2"
    }
  },
  "cells": [
    {
      "cell_type": "markdown",
      "metadata": {
        "id": "view-in-github",
        "colab_type": "text"
      },
      "source": [
        "<a href=\"https://colab.research.google.com/github/shimyuta12/test/blob/master/%E3%82%B9%E3%82%AF%E3%83%AC%E3%82%A4%E3%83%94%E3%83%B3%E3%82%B0.ipynb\" target=\"_parent\"><img src=\"https://colab.research.google.com/assets/colab-badge.svg\" alt=\"Open In Colab\"/></a>"
      ]
    },
    {
      "cell_type": "code",
      "metadata": {
        "id": "afS22RTh4OCq",
        "colab_type": "code",
        "outputId": "f48ab497-1427-4038-d074-1fb54fab9eb6",
        "colab": {
          "base_uri": "https://localhost:8080/",
          "height": 35
        }
      },
      "source": [
        "!pip install beautifulsoup4"
      ],
      "execution_count": 0,
      "outputs": [
        {
          "output_type": "stream",
          "text": [
            "Requirement already satisfied: beautifulsoup4 in /usr/local/lib/python2.7/dist-packages (4.6.3)\n"
          ],
          "name": "stdout"
        }
      ]
    },
    {
      "cell_type": "code",
      "metadata": {
        "id": "YXhDIhGQ4Yoo",
        "colab_type": "code",
        "outputId": "ad788c96-57c0-4b6d-f639-0cab4447dbeb",
        "colab": {
          "base_uri": "https://localhost:8080/",
          "height": 53
        }
      },
      "source": [
        "# coding: UTF-8\n",
        "import urllib2\n",
        "from bs4 import BeautifulSoup\n",
        "\n",
        "# アクセスするURL\n",
        "url = \"https://www.navitime.co.jp/category/0201/03203/?page=2\"\n",
        "\n",
        "# URLにアクセスする htmlが帰ってくる → <html><head><title>経済、株価、ビジネス、政治のニュース:日経電子版</title></head><body....\n",
        "html = urllib2.urlopen(url)\n",
        "\n",
        "# htmlをBeautifulSoupで扱う\n",
        "soup = BeautifulSoup(html, \"html.parser\")\n",
        "\n",
        "span = soup.find_all(\"dt\")\n",
        "\n",
        "for tag in span:\n",
        "    try:\n",
        "      print(tag.a.string)\n",
        "    except:\n",
        "        # パス→何も処理を行わない\n",
        "        pass\n"
      ],
      "execution_count": 0,
      "outputs": [
        {
          "output_type": "stream",
          "text": [
            "セブンイレブン 大船渡合同庁舎前店\n",
            "ニューヤマザキデイリーストア 大船渡病院店\n"
          ],
          "name": "stdout"
        }
      ]
    },
    {
      "cell_type": "code",
      "metadata": {
        "id": "ci27q4UaAkjl",
        "colab_type": "code",
        "colab": {}
      },
      "source": [
        "# coding: UTF-8\n",
        "import urllib2\n",
        "from bs4 import BeautifulSoup\n",
        "\n",
        "# アクセスするURL\n",
        "url = \"https://www.navitime.co.jp/category/0201/03203/?page=2\"\n",
        "\n",
        "# URLにアクセスする htmlが帰ってくる → <html><head><title>経済、株価、ビジネス、政治のニュース:日経電子版</title></head><body....\n",
        "html = urllib2.urlopen(url)\n",
        "\n",
        "# htmlをBeautifulSoupで扱う\n",
        "soup = BeautifulSoup(html, \"html.parser\")\n",
        "\n",
        "dd = soup.find_all(\"dd\")"
      ],
      "execution_count": 0,
      "outputs": []
    },
    {
      "cell_type": "code",
      "metadata": {
        "id": "ohWNxlZQA2TI",
        "colab_type": "code",
        "outputId": "8c4033ec-c503-423c-ffe8-114f86ed5b26",
        "colab": {
          "base_uri": "https://localhost:8080/",
          "height": 89
        }
      },
      "source": [
        "for tag in dd:\n",
        "  \n",
        "    try:\n",
        "\n",
        "        string_ = tag.get(\"class\").pop(0)\n",
        "\n",
        "        if string_ in \"address_name\":\n",
        "          print(tag.text)\n",
        "          \n",
        "    except:\n",
        "        # パス→何も処理を行わない\n",
        "        pass"
      ],
      "execution_count": 0,
      "outputs": [
        {
          "output_type": "stream",
          "text": [
            "岩手県大船渡市猪川町字前田3番1[地図]\n",
            "\n",
            "岩手県大船渡市大船渡町字山馬越10番地1[地図]\n",
            "\n"
          ],
          "name": "stdout"
        }
      ]
    },
    {
      "cell_type": "code",
      "metadata": {
        "id": "pmprVx17FH4G",
        "colab_type": "code",
        "colab": {}
      },
      "source": [
        "import urllib2\n",
        "from bs4 import BeautifulSoup"
      ],
      "execution_count": 0,
      "outputs": []
    },
    {
      "cell_type": "code",
      "metadata": {
        "id": "HKbFJFqRg7ND",
        "colab_type": "code",
        "outputId": "c772c139-e419-4cf8-e2b9-e3606427793b",
        "colab": {
          "base_uri": "https://localhost:8080/",
          "height": 359
        }
      },
      "source": [
        "url = \"https://realestate.yahoo.co.jp/rent/search/?lc=02&pf=03&geo[]=03203&page=2\"\n",
        "html = urllib2.urlopen(url)\n",
        "soup = BeautifulSoup(html, \"html.parser\")\n",
        "span = soup.find_all(\"span\")\n",
        "\n",
        "for tag in span:  \n",
        "    try:\n",
        "        string_ = tag.get(\"class\").pop(0)\n",
        "        if string_ in \"name\":\n",
        "          print(tag.text)\n",
        "          \n",
        "    except:\n",
        "        # パス→何も処理を行わない\n",
        "        pass"
      ],
      "execution_count": 0,
      "outputs": [
        {
          "output_type": "stream",
          "text": [
            "サニーフラッツ\n",
            "コーポにしむら\n",
            "フリーダム岩手A棟\n",
            "平山貸家\n",
            "大船渡線 盛駅 平屋建て 築16年\n",
            "大船渡線 盛駅 地上2階建て 築27年\n",
            "大船渡線 大船渡駅 地上2階建て 築17年\n",
            "大船渡線 盛駅 地上2階建て 築28年\n",
            "大船渡線 大船渡駅 地上2階建て 築17年\n",
            "大船渡線 盛駅 地上2階建て 築50年\n",
            "三陸鉄道リアス線 盛駅 地上2階建て 築23年\n",
            "アウロラZ\n",
            "ソレイユ・フルールI\n",
            "海岸通り1丁目\n",
            "平田ハイツ\n",
            "サクセス千葉\n",
            "ロイヤルハイツマリア\n",
            "スターブル\n",
            "大船渡市立根町字小森\n"
          ],
          "name": "stdout"
        }
      ]
    },
    {
      "cell_type": "code",
      "metadata": {
        "id": "D7sKMSreh9np",
        "colab_type": "code",
        "outputId": "0b2860f6-d202-4c47-bd88-94b1e9c14f13",
        "colab": {
          "base_uri": "https://localhost:8080/",
          "height": 127
        }
      },
      "source": [
        "from google.colab import drive\n",
        "drive.mount(\"/content/drive\")"
      ],
      "execution_count": 0,
      "outputs": [
        {
          "output_type": "stream",
          "text": [
            "Go to this URL in a browser: https://accounts.google.com/o/oauth2/auth?client_id=947318989803-6bn6qk8qdgf4n4g3pfee6491hc0brc4i.apps.googleusercontent.com&redirect_uri=urn%3Aietf%3Awg%3Aoauth%3A2.0%3Aoob&scope=email%20https%3A%2F%2Fwww.googleapis.com%2Fauth%2Fdocs.test%20https%3A%2F%2Fwww.googleapis.com%2Fauth%2Fdrive%20https%3A%2F%2Fwww.googleapis.com%2Fauth%2Fdrive.photos.readonly%20https%3A%2F%2Fwww.googleapis.com%2Fauth%2Fpeopleapi.readonly&response_type=code\n",
            "\n",
            "Enter your authorization code:\n",
            "··········\n",
            "Mounted at /content/drive\n"
          ],
          "name": "stdout"
        }
      ]
    },
    {
      "cell_type": "code",
      "metadata": {
        "id": "Y0FE4ya813NF",
        "colab_type": "code",
        "outputId": "8a3cb8d5-4804-4fa0-d9aa-26c021cbbcba",
        "colab": {
          "base_uri": "https://localhost:8080/",
          "height": 1000
        }
      },
      "source": [
        "import os\n",
        "os.listdir(\"./drive/My Drive\")"
      ],
      "execution_count": 0,
      "outputs": [
        {
          "output_type": "execute_result",
          "data": {
            "text/plain": [
              "['OCR',\n",
              " 'copy.rb',\n",
              " 'mechenize.rb',\n",
              " 'P_20171027_202943_vHDR_On_p.jpg',\n",
              " 'P_20171028_133415_vHDR_On_p.jpg',\n",
              " 'P_20171109_143253_vHDR_On_p.jpg',\n",
              " '\\xe9\\x87\\x8e\\xe7\\x8d\\xa3\\xe6\\x8d\\x95\\xe7\\x8d\\xb2\\xe8\\xa3\\x85\\xe7\\xbd\\xae\\xe8\\xa6\\x81\\xe7\\xb4\\xa0\\xe6\\x8a\\x80\\xe8\\xa1\\x93.ppt',\n",
              " 'undertale2.stl',\n",
              " '\\xe8\\xb6\\x85\\xe7\\x89\\xb9\\xe6\\x80\\xa52.stl',\n",
              " 'microbit',\n",
              " '\\xe3\\x83\\x95\\xe3\\x82\\xa7\\xe3\\x82\\xa2\\xe3\\x83\\xaa\\xe3\\x83\\xbc.png',\n",
              " '\\xe7\\x84\\xa1\\xe9\\xa1\\x8c\\xe3\\x81\\xae\\xe3\\x83\\x95\\xe3\\x82\\xa9\\xe3\\x83\\xbc\\xe3\\x83\\xa0.gform',\n",
              " '\\xe7\\xab\\xb9\\xe3\\x83\\x8f\\xe3\\x82\\xa6\\xe3\\x82\\xb9.gantter',\n",
              " '\\xe7\\x84\\xa1\\xe9\\xa1\\x8c.gantter',\n",
              " '\\xe3\\x82\\xa8\\xe3\\x83\\xac\\xe3\\x82\\xad\\xe3\\x82\\xad\\xe3\\x82\\x99\\xe3\\x82\\xbf\\xe3\\x83\\xbc.gslides',\n",
              " 'microbit2',\n",
              " '9707606_MotionElements_photo-montage-aep',\n",
              " 'Vector',\n",
              " 'illustrator',\n",
              " 'Google \\xe3\\x83\\x95\\xe3\\x82\\xa9\\xe3\\x83\\x88',\n",
              " '\\xe3\\x82\\xb9\\xe3\\x83\\x95\\xe3\\x82\\x9a\\xe3\\x83\\xac\\xe3\\x83\\x83\\xe3\\x83\\x88\\xe3\\x82\\x99\\xe3\\x82\\xb7\\xe3\\x83\\xbc\\xe3\\x83\\x88',\n",
              " '\\xe3\\x82\\xb9\\xe3\\x83\\xa9\\xe3\\x82\\xa4\\xe3\\x83\\x88\\xe3\\x82\\x99',\n",
              " '\\xe3\\x82\\xad\\xe3\\x83\\xa3\\xe3\\x83\\x83\\xe3\\x82\\xbb\\xe3\\x83\\xb3\\xe5\\xa4\\xa7\\xe8\\x88\\xb9\\xe6\\xb8\\xa1T\\xe3\\x82\\xb7\\xe3\\x83\\xa3\\xe3\\x83\\x847 29.gsheet',\n",
              " '\\xe7\\x84\\xa1\\xe9\\xa1\\x8c\\xe3\\x81\\xae\\xe3\\x83\\x95\\xe3\\x82\\x9a\\xe3\\x83\\xac\\xe3\\x82\\xbb\\xe3\\x82\\x99\\xe3\\x83\\xb3\\xe3\\x83\\x86\\xe3\\x83\\xbc\\xe3\\x82\\xb7\\xe3\\x83\\xa7\\xe3\\x83\\xb3.gslides',\n",
              " '\\xe3\\x82\\xa2\\xe3\\x82\\xa4\\xe3\\x83\\x86\\xe3\\x82\\x99\\xe3\\x82\\xa3\\xe3\\x82\\xa2\\xe3\\x82\\xbd\\xe3\\x83\\xb3.gslides',\n",
              " 'LASER CUTTING MACHINE.gslides',\n",
              " '\\xe6\\xb4\\xbb\\xe5\\x8b\\x95\\xe8\\xa8\\x88\\xe7\\x94\\xbb\\xe3\\x82\\xb7\\xe3\\x83\\xbc\\xe3\\x83\\x88.docx',\n",
              " '2018\\xe5\\xb9\\xb4\\xe5\\xba\\xa6\\xe5\\xa4\\xa7\\xe8\\x88\\xb9\\xe6\\xb8\\xa1\\xe5\\xb8\\x82\\xe5\\x9c\\xb0\\xe5\\x9f\\x9f\\xe3\\x81\\x8a\\xe3\\x81\\x93\\xe3\\x81\\x97\\xe5\\x8d\\x94\\xe5\\x8a\\x9b\\xe9\\x9a\\x8a\\xef\\xbc\\x88\\xe5\\xb0\\x8f\\xe6\\x9e\\x97\\xef\\xbc\\x89\\xe4\\xb8\\x8a\\xe5\\x8d\\x8a\\xe6\\x9c\\x9f\\xe6\\xb4\\xbb\\xe5\\x8b\\x95\\xe5\\xa0\\xb1\\xe5\\x91\\x8a.gdoc',\n",
              " '\\xe6\\xb4\\xbb\\xe5\\x8b\\x95\\xe8\\xa8\\x88\\xe7\\x94\\xbb\\xe3\\x82\\xb7\\xe3\\x83\\xbc\\xe3\\x83\\x88\\xe8\\xa8\\x82\\xe6\\xad\\xa3\\xe7\\x89\\x88.gdoc',\n",
              " '\\xe5\\xb0\\x8f\\xe6\\x9e\\x97\\xe3\\x81\\x8f\\xe3\\x82\\x93\\xe8\\xab\\x8b\\xe6\\xb1\\x82\\xe6\\x9b\\xb8.xlsx',\n",
              " '\\xe5\\x87\\xba\\xe5\\xba\\x97\\xe7\\x94\\xb3\\xe8\\xbe\\xbc\\xe6\\x9b\\xb8.xlsx',\n",
              " '\\xe5\\x87\\xba\\xe5\\xba\\x97\\xe7\\x94\\xb3\\xe8\\xbe\\xbc\\xe6\\x9b\\xb8.gsheet',\n",
              " '\\xe5\\xb0\\x8f\\xe6\\x9e\\x97\\xe3\\x81\\x8f\\xe3\\x82\\x93\\xe8\\xab\\x8b\\xe6\\xb1\\x82\\xe6\\x9b\\xb8.gsheet',\n",
              " '03-1\\xe3\\x80\\x90\\xe5\\xa4\\xa7\\xe8\\x88\\xb9\\xe6\\xb8\\xa1\\xe5\\xb8\\x82\\xe3\\x80\\x91\\xe6\\xa7\\x98\\xe5\\xbc\\x8f\\xef\\xbc\\x88\\xe5\\xb0\\x8f\\xe6\\x9e\\x97\\xef\\xbc\\x89.pptx',\n",
              " '03-1\\xe3\\x80\\x90\\xe5\\xa4\\xa7\\xe8\\x88\\xb9\\xe6\\xb8\\xa1\\xe5\\xb8\\x82\\xe3\\x80\\x91\\xe6\\xa7\\x98\\xe5\\xbc\\x8f\\xef\\xbc\\x88\\xe5\\xb0\\x8f\\xe6\\x9e\\x97\\xef\\xbc\\x89.gslides',\n",
              " '03-1\\xe3\\x80\\x90\\xe5\\xa4\\xa7\\xe8\\x88\\xb9\\xe6\\xb8\\xa1\\xe5\\xb8\\x82\\xe3\\x80\\x91\\xe6\\xa7\\x98\\xe5\\xbc\\x8f\\xef\\xbc\\x88\\xe5\\xb0\\x8f\\xe6\\x9e\\x97\\xef\\xbc\\x89 (1).gslides',\n",
              " '\\xe9\\xb9\\xbf\\xe5\\x9b\\xb2\\xe3\\x81\\x84\\xe7\\xbd\\xa0.gdoc',\n",
              " '\\xe5\\xb1\\xa5\\xe6\\xad\\xb4\\xe6\\x9b\\xb8 .gdoc',\n",
              " '\\xe3\\x80\\x90\\xe6\\x96\\xb0\\xe6\\xa7\\x98\\xe5\\xbc\\x8f\\xe3\\x80\\x91\\xe6\\xb4\\xbb\\xe5\\x8b\\x95\\xe8\\xa8\\x98\\xe9\\x8c\\xb2ver1\\xe5\\xb0\\x8f\\xe6\\x9e\\x97 (6).xlsx',\n",
              " '\\xe3\\x80\\x90\\xe6\\x96\\xb0\\xe6\\xa7\\x98\\xe5\\xbc\\x8f\\xe3\\x80\\x91\\xe6\\xb4\\xbb\\xe5\\x8b\\x95\\xe8\\xa8\\x98\\xe9\\x8c\\xb2ver1\\xe5\\xb0\\x8f\\xe6\\x9e\\x979\\xe6\\x9c\\x88\\xe5\\x89\\x8d\\xe5\\x8d\\x8a.gsheet',\n",
              " '\\xe6\\x96\\xb0\\xe3\\x81\\x97\\xe3\\x81\\x84\\xe3\\x83\\x86\\xe3\\x82\\xad\\xe3\\x82\\xb9\\xe3\\x83\\x88 \\xe3\\x83\\x88\\xe3\\x82\\x99\\xe3\\x82\\xad\\xe3\\x83\\xa5\\xe3\\x83\\xa1\\xe3\\x83\\xb3\\xe3\\x83\\x88.gdoc',\n",
              " '\\xe5\\x8f\\x96\\xe6\\x9d\\x90\\xe3\\x82\\xb7\\xe3\\x83\\xbc\\xe3\\x83\\x88_\\xe4\\xba\\xba.gdoc',\n",
              " '\\xe6\\xa7\\x98\\xe5\\xbc\\x8f2_\\xe5\\xa4\\xa7\\xe8\\x88\\xb9\\xe6\\xb8\\xa1\\xe5\\xb8\\x82\\xe5\\x9c\\xb0\\xe5\\x9f\\x9f\\xe3\\x81\\x8a\\xe3\\x81\\x93\\xe3\\x81\\x97\\xe5\\x8d\\x94\\xe5\\x8a\\x9b\\xe9\\x9a\\x8aICT\\xe6\\x8e\\xa8\\xe9\\x80\\xb2\\xe6\\xb4\\xbb\\xe5\\x8b\\x95\\xe7\\x9b\\xae\\xe6\\xa8\\x99.pages',\n",
              " '\\xe6\\xa7\\x98\\xe5\\xbc\\x8f2_\\xe5\\xa4\\xa7\\xe8\\x88\\xb9\\xe6\\xb8\\xa1\\xe5\\xb8\\x82\\xe5\\x9c\\xb0\\xe5\\x9f\\x9f\\xe3\\x81\\x8a\\xe3\\x81\\x93\\xe3\\x81\\x97\\xe5\\x8d\\x94\\xe5\\x8a\\x9b\\xe9\\x9a\\x8aICT\\xe6\\x8e\\xa8\\xe9\\x80\\xb2\\xe6\\xb4\\xbb\\xe5\\x8b\\x95\\xe7\\x9b\\xae\\xe6\\xa8\\x99.docx',\n",
              " '\\xe5\\x8f\\x96\\xe6\\x9d\\x90\\xe3\\x82\\xb7\\xe3\\x83\\xbc\\xe3\\x83\\x88_\\xe4\\xba\\xba.docx',\n",
              " '\\xe6\\xa7\\x98\\xe5\\xbc\\x8f1_\\xe5\\xa4\\xa7\\xe8\\x88\\xb9\\xe6\\xb8\\xa1\\xe5\\xb8\\x82\\xe5\\x9c\\xb0\\xe5\\x9f\\x9f\\xe3\\x81\\x8a\\xe3\\x81\\x93\\xe3\\x81\\x97\\xe5\\x8d\\x94\\xe5\\x8a\\x9b\\xe9\\x9a\\x8aICT\\xe6\\x8e\\xa8\\xe9\\x80\\xb2\\xe5\\xbf\\x9c\\xe5\\x8b\\x9f\\xe7\\x94\\xa8\\xe7\\xb4\\x99.docx',\n",
              " '\\xe7\\x84\\xa1\\xe9\\xa1\\x8c\\xe3\\x81\\xae\\xe3\\x82\\xb9\\xe3\\x83\\x95\\xe3\\x82\\x9a\\xe3\\x83\\xac\\xe3\\x83\\x83\\xe3\\x83\\x88\\xe3\\x82\\x99\\xe3\\x82\\xb7\\xe3\\x83\\xbc\\xe3\\x83\\x88.gsheet',\n",
              " '\\xe7\\x84\\xa1\\xe9\\xa1\\x8c\\xe3\\x81\\xae\\xe3\\x82\\xb9\\xe3\\x83\\x95\\xe3\\x82\\x9a\\xe3\\x83\\xac\\xe3\\x83\\x83\\xe3\\x83\\x88\\xe3\\x82\\x99\\xe3\\x82\\xb7\\xe3\\x83\\xbc\\xe3\\x83\\x88 (1).gsheet',\n",
              " 'tokei.xls',\n",
              " 'tokei.gsheet',\n",
              " 'test.gsheet',\n",
              " '978-4-297-10050-6.pdf',\n",
              " '\\xe5\\xb8\\x82\\xe5\\x8c\\xba\\xe7\\x94\\xba\\xe6\\x9d\\x91\\xe3\\x83\\xac\\xe3\\x83\\x98\\xe3\\x82\\x99\\xe3\\x83\\xab\\xe3\\x81\\xae\\xe5\\x9c\\xb0\\xe6\\x96\\xb9\\xe8\\x87\\xaa\\xe6\\xb2\\xbb\\xe4\\xbd\\x93\\xe3\\x82\\xa2\\xe3\\x83\\xb3\\xe3\\x83\\x86\\xe3\\x83\\x8a\\xe3\\x82\\xb7\\xe3\\x83\\xa7\\xe3\\x83\\x83\\xe3\\x83\\x95\\xe3\\x82\\x9a\\xe3\\x81\\xab\\xe3\\x81\\x8a\\xe3\\x81\\x91\\xe3\\x82\\x8bWEB\\xe6\\xb4\\xbb\\xe7\\x94\\xa8\\xe5\\xba\\xa6\\xe5\\x90\\x88\\xe3\\x81\\x84\\xe3\\x81\\xae\\xe6\\xaf\\x94\\xe8\\xbc\\x83.gdoc',\n",
              " '\\xe5\\x9c\\xb0\\xe5\\x9f\\x9f\\xe3\\x81\\x8a\\xe3\\x81\\x93\\xe3\\x81\\x97\\xe5\\x8d\\x94\\xe5\\x8a\\x9b\\xe9\\x9a\\x8aH31\\xe5\\xb9\\xb4\\xe5\\xba\\xa6\\xe4\\xb8\\x8a\\xe5\\x8d\\x8a\\xe6\\x9c\\x9f\\xe6\\xb4\\xbb\\xe5\\x8b\\x95\\xe8\\xa8\\x88\\xe7\\x94\\xbb\\xe3\\x82\\xb7\\xe3\\x83\\xbc\\xe3\\x83\\x88.docx',\n",
              " '03\\xef\\xbf\\xbds\\xef\\xbf\\xbd\\xef\\xbf\\xbd\\xef\\xbf\\xbd\\xef\\xbf\\xbd\\xef\\xbf\\xbd\\xef\\xbf\\xbd\\xef\\xbf\\xbd\\xef\\xbf\\xbd\\xef\\xbf\\xbd\\xef\\xbf\\xbd\\xef\\xbf\\xbdY\\xef\\xbf\\xbdi\\xef\\xbf\\xbd\\xef\\xbf\\xbd\\xef\\xbf\\xbd\\xda\\x95\\xca\\x93\\xef\\xbf\\xbd\\xef\\xbf\\xbdv\\xef\\xbf\\xbd\\xef\\xbf\\xbdj.xlsx',\n",
              " '03\\xef\\xbf\\xbds\\xef\\xbf\\xbd\\xef\\xbf\\xbd\\xef\\xbf\\xbd\\xef\\xbf\\xbd\\xef\\xbf\\xbd\\xef\\xbf\\xbd\\xef\\xbf\\xbd\\xef\\xbf\\xbd\\xef\\xbf\\xbd\\xef\\xbf\\xbd\\xef\\xbf\\xbdY\\xef\\xbf\\xbdi\\xef\\xbf\\xbd\\xef\\xbf\\xbd\\xef\\xbf\\xbd\\xda\\x95\\xca\\x93\\xef\\xbf\\xbd\\xef\\xbf\\xbdv\\xef\\xbf\\xbd\\xef\\xbf\\xbdj.gsheet',\n",
              " '\\xe9\\xad\\x9a\\xe7\\xa8\\xae\\xe5\\x88\\xa5\\xe6\\xbc\\x81\\xe7\\x8d\\xb2\\xe9\\x87\\x8f.xls',\n",
              " '\\xe9\\xad\\x9a\\xe7\\xa8\\xae\\xe5\\x88\\xa5\\xe6\\xbc\\x81\\xe7\\x8d\\xb2\\xe9\\x87\\x8f.gsheet',\n",
              " '2018\\xe5\\xb9\\xb4\\xe5\\xba\\xa6\\xe5\\xa4\\xa7\\xe8\\x88\\xb9\\xe6\\xb8\\xa1\\xe5\\xb8\\x82\\xe5\\x9c\\xb0\\xe5\\x9f\\x9f\\xe3\\x81\\x8a\\xe3\\x81\\x93\\xe3\\x81\\x97\\xe5\\x8d\\x94\\xe5\\x8a\\x9b\\xe9\\x9a\\x8a\\xef\\xbc\\x88\\xe5\\xb0\\x8f\\xe6\\x9e\\x97\\xef\\xbc\\x89\\xe4\\xb8\\x8b\\xe5\\x8d\\x8a\\xe6\\x9c\\x9f\\xe6\\xb4\\xbb\\xe5\\x8b\\x95\\xe5\\xa0\\xb1\\xe5\\x91\\x8a.gdoc',\n",
              " 'mydata.gsheet',\n",
              " '\\xe3\\x80\\x90\\xe6\\xa7\\x98\\xe5\\xbc\\x8f\\xe7\\xac\\xac\\xef\\xbc\\x91\\xe3\\x80\\x91\\xe4\\xba\\xa4\\xe9\\x80\\x9a\\xe4\\xba\\x8b\\xe6\\x95\\x85\\xe7\\xad\\x89\\xe5\\xa0\\xb1\\xe5\\x91\\x8a\\xe6\\x9b\\xb8.rtf',\n",
              " '\\xe3\\x80\\x90\\xe6\\xa7\\x98\\xe5\\xbc\\x8f\\xe7\\xac\\xac\\xef\\xbc\\x92\\xe3\\x80\\x91\\xe7\\x8f\\xbe\\xe5\\xa0\\xb4\\xe8\\xa6\\x8b\\xe5\\x8f\\x96\\xe5\\x9b\\xb3\\xe3\\x83\\xbb\\xe5\\x86\\x99\\xe7\\x9c\\x9f.rtf',\n",
              " '\\xe3\\x80\\x90\\xe6\\xa7\\x98\\xe5\\xbc\\x8f\\xe7\\xac\\xac\\xef\\xbc\\x93\\xe3\\x80\\x91\\xe4\\xba\\xa4\\xe9\\x80\\x9a\\xe4\\xba\\x8b\\xe6\\x95\\x85\\xe7\\xad\\x89\\xe7\\x8a\\xb6\\xe6\\xb3\\x81\\xe5\\xa0\\xb1\\xe5\\x91\\x8a\\xe6\\x9b\\xb8(\\xe7\\x8f\\xbe\\xe8\\xaa\\x8d\\xe6\\x9b\\xb8).rtf',\n",
              " '\\xe3\\x80\\x90\\xe6\\xa7\\x98\\xe5\\xbc\\x8f\\xe7\\xac\\xac\\xef\\xbc\\x94\\xe3\\x80\\x91\\xe4\\xba\\xa4\\xe9\\x80\\x9a\\xe4\\xba\\x8b\\xe6\\x95\\x85\\xe7\\xad\\x89\\xe5\\x87\\xa6\\xe7\\xbd\\xae\\xe7\\xb5\\x8c\\xe9\\x81\\x8e\\xe5\\xa0\\xb1\\xe5\\x91\\x8a\\xe6\\x9b\\xb8.rtf',\n",
              " '\\xe7\\x84\\xa1\\xe9\\xa1\\x8c\\xe3\\x81\\xae\\xe3\\x82\\xb9\\xe3\\x83\\x95\\xe3\\x82\\x9a\\xe3\\x83\\xac\\xe3\\x83\\x83\\xe3\\x83\\x88\\xe3\\x82\\x99\\xe3\\x82\\xb7\\xe3\\x83\\xbc\\xe3\\x83\\x88 (2).gsheet',\n",
              " '\\xe7\\x84\\xa1\\xe9\\xa1\\x8c\\xe3\\x81\\xae\\xe3\\x83\\x95\\xe3\\x82\\x9a\\xe3\\x83\\xac\\xe3\\x82\\xbb\\xe3\\x82\\x99\\xe3\\x83\\xb3\\xe3\\x83\\x86\\xe3\\x83\\xbc\\xe3\\x82\\xb7\\xe3\\x83\\xa7\\xe3\\x83\\xb3 (1).gslides',\n",
              " '\\xe3\\x80\\x90\\xe6\\xa7\\x98\\xe5\\xbc\\x8f\\xe7\\xac\\xac\\xef\\xbc\\x92\\xe3\\x80\\x91\\xe7\\x8f\\xbe\\xe5\\xa0\\xb4\\xe8\\xa6\\x8b\\xe5\\x8f\\x96\\xe5\\x9b\\xb3\\xe3\\x83\\xbb\\xe5\\x86\\x99\\xe7\\x9c\\x9f.rtf.gdoc',\n",
              " '\\xe3\\x80\\x90\\xe6\\xa7\\x98\\xe5\\xbc\\x8f\\xe7\\xac\\xac\\xef\\xbc\\x91\\xe3\\x80\\x91\\xe4\\xba\\xa4\\xe9\\x80\\x9a\\xe4\\xba\\x8b\\xe6\\x95\\x85\\xe7\\xad\\x89\\xe5\\xa0\\xb1\\xe5\\x91\\x8a\\xe6\\x9b\\xb8.rtf.gdoc',\n",
              " '\\xe3\\x80\\x90\\xe6\\xa7\\x98\\xe5\\xbc\\x8f\\xe7\\xac\\xac\\xef\\xbc\\x94\\xe3\\x80\\x91\\xe4\\xba\\xa4\\xe9\\x80\\x9a\\xe4\\xba\\x8b\\xe6\\x95\\x85\\xe7\\xad\\x89\\xe5\\x87\\xa6\\xe7\\xbd\\xae\\xe7\\xb5\\x8c\\xe9\\x81\\x8e\\xe5\\xa0\\xb1\\xe5\\x91\\x8a\\xe6\\x9b\\xb8.rtf.gdoc',\n",
              " '\\xe8\\x87\\xaa\\xe5\\x8b\\x95\\xe8\\xbb\\x8a\\xe4\\xba\\x8b\\xe6\\x95\\x85\\xe5\\xa0\\xb1\\xe5\\x91\\x8a\\xe6\\x9b\\xb8\\xef\\xbc\\x88\\xe8\\xb2\\xa1\\xe6\\x94\\xbf\\xe8\\xaa\\xb2\\xe6\\x8f\\x90\\xe5\\x87\\xba\\xe7\\x94\\xa8\\xef\\xbc\\x89.docx',\n",
              " '\\xe3\\x80\\x90\\xe6\\xa7\\x98\\xe5\\xbc\\x8f\\xe7\\xac\\xac\\xef\\xbc\\x93\\xe3\\x80\\x91\\xe4\\xba\\xa4\\xe9\\x80\\x9a\\xe4\\xba\\x8b\\xe6\\x95\\x85\\xe7\\xad\\x89\\xe7\\x8a\\xb6\\xe6\\xb3\\x81\\xe5\\xa0\\xb1\\xe5\\x91\\x8a\\xe6\\x9b\\xb8(\\xe7\\x8f\\xbe\\xe8\\xaa\\x8d\\xe6\\x9b\\xb8).rtf.gdoc',\n",
              " '\\xe3\\x80\\x90\\xe5\\xa7\\x8b\\xe6\\x9c\\xab\\xe6\\x9b\\xb8\\xe3\\x80\\x91.docx',\n",
              " 'Colab Notebooks',\n",
              " 'deerdetect',\n",
              " '\\xe6\\x96\\xb0\\xe5\\x8b\\xa4\\xe5\\x8b\\x99\\xe7\\xae\\xa1\\xe7\\x90\\x86\\xe8\\xa1\\xa8R1\\xe5\\xb9\\xb4\\xe5\\xba\\xa6\\xe5\\xb0\\x8f\\xe6\\x9e\\x97.xlsx',\n",
              " 'pdf',\n",
              " 'python_stat_sample-master',\n",
              " '\\xe3\\x82\\xb5\\xe3\\x83\\xb3\\xe3\\x83\\x95\\xe3\\x82\\x9a\\xe3\\x83\\xab - \\xe3\\x82\\xb9\\xe3\\x83\\xbc\\xe3\\x83\\x8f\\xe3\\x82\\x9a\\xe3\\x83\\xbc\\xe3\\x82\\xb9\\xe3\\x83\\x88\\xe3\\x82\\xa2.xls',\n",
              " 'pytorch_advanced',\n",
              " '\\xe3\\x83\\x92\\xe3\\x82\\x99\\xe3\\x83\\x83\\xe3\\x82\\xaf\\xe3\\x82\\x99\\xe3\\x83\\x86\\xe3\\x82\\x99\\xe3\\x83\\xbc\\xe3\\x82\\xbf\\xe3\\x82\\x92\\xe6\\x94\\xaf\\xe3\\x81\\x88\\xe3\\x82\\x8b\\xe6\\x8a\\x80\\xe8\\xa1\\x93.pdf',\n",
              " 'JPvideos.csv',\n",
              " 'complaint-problems.csv',\n",
              " 'BMX.gsheet',\n",
              " 'moon-1859616_1920.jpg',\n",
              " 'DSC_0435.JPG',\n",
              " '\\xe5\\xa4\\xa7\\xe8\\x88\\xb9\\xe6\\xb8\\xa1\\xe7\\xa5\\xad\\xe3\\x82\\x8a\\xe8\\x88\\xb9.JPG',\n",
              " 'jjwd.csv',\n",
              " 'OJT',\n",
              " 'OJT\\xe3\\x83\\xa1\\xe3\\x83\\xa2.gdoc',\n",
              " 'GAS.gsheet',\n",
              " '\\xe6\\x96\\xb0\\xe5\\x8b\\xa4\\xe5\\x8b\\x99\\xe7\\xae\\xa1\\xe7\\x90\\x86\\xe8\\xa1\\xa8R1\\xe5\\xb9\\xb4\\xe5\\xba\\xa68\\xe6\\x9c\\x88\\xe5\\xb0\\x8f\\xe6\\x9e\\x97.gsheet',\n",
              " '\\xe6\\xb0\\x97\\xe8\\xb1\\xa1\\xe5\\xba\\x81\\xe3\\x83\\x86\\xe3\\x82\\x99\\xe3\\x83\\xbc\\xe3\\x82\\xbf.gsheet',\n",
              " '\\xe3\\x83\\x86\\xe3\\x82\\x99\\xe3\\x83\\xbc\\xe3\\x82\\xbf2.gsheet']"
            ]
          },
          "metadata": {
            "tags": []
          },
          "execution_count": 95
        }
      ]
    },
    {
      "cell_type": "code",
      "metadata": {
        "id": "ZA0Vxk492Apn",
        "colab_type": "code",
        "colab": {}
      },
      "source": [
        "import pandas as pd\n",
        "\n",
        "students = pd.read_csv('./drive/My Drive/rent.csv')\n",
        "hos1 = students[\"location\"].values.tolist()"
      ],
      "execution_count": 0,
      "outputs": []
    },
    {
      "cell_type": "code",
      "metadata": {
        "id": "DAYlfJJ82aLe",
        "colab_type": "code",
        "colab": {}
      },
      "source": [
        "import requests\n",
        "from bs4 import BeautifulSoup\n",
        "import time\n",
        "from tqdm import tqdm\n",
        "\n",
        "\n",
        "def get_lat_lon_from_address(address_l):\n",
        "  url = 'http://www.geocoding.jp/api/'\n",
        "  latlons = []\n",
        "  for address in tqdm(address_l):\n",
        "    payload = {'q': address}\n",
        "    r = requests.get(url, params=payload)\n",
        "    ret = BeautifulSoup(r.content,'lxml')\n",
        "    lat = ret.find('lat').string\n",
        "    lon = ret.find('lng').string\n",
        "    latlons.append([lat,lon])\n",
        "  return latlons"
      ],
      "execution_count": 0,
      "outputs": []
    },
    {
      "cell_type": "code",
      "metadata": {
        "id": "7mBgmQQt2bTE",
        "colab_type": "code",
        "outputId": "98c8f09c-8be6-493f-83ca-b0378772246e",
        "colab": {
          "base_uri": "https://localhost:8080/",
          "height": 316
        }
      },
      "source": [
        "lons = get_lat_lon_from_address(hos1)"
      ],
      "execution_count": 0,
      "outputs": [
        {
          "output_type": "stream",
          "text": [
            "\r  0%|          | 0/40 [00:00<?, ?it/s]\n"
          ],
          "name": "stderr"
        },
        {
          "output_type": "error",
          "ename": "AttributeError",
          "evalue": "ignored",
          "traceback": [
            "\u001b[0;31m\u001b[0m",
            "\u001b[0;31mAttributeError\u001b[0mTraceback (most recent call last)",
            "\u001b[0;32m<ipython-input-105-0b0d4ce8135d>\u001b[0m in \u001b[0;36m<module>\u001b[0;34m()\u001b[0m\n\u001b[0;32m----> 1\u001b[0;31m \u001b[0mlons\u001b[0m \u001b[0;34m=\u001b[0m \u001b[0mget_lat_lon_from_address\u001b[0m\u001b[0;34m(\u001b[0m\u001b[0mhos1\u001b[0m\u001b[0;34m)\u001b[0m\u001b[0;34m\u001b[0m\u001b[0;34m\u001b[0m\u001b[0m\n\u001b[0m",
            "\u001b[0;32m<ipython-input-104-f3a0fe2a1214>\u001b[0m in \u001b[0;36mget_lat_lon_from_address\u001b[0;34m(address_l)\u001b[0m\n\u001b[1;32m     12\u001b[0m     \u001b[0mr\u001b[0m \u001b[0;34m=\u001b[0m \u001b[0mrequests\u001b[0m\u001b[0;34m.\u001b[0m\u001b[0mget\u001b[0m\u001b[0;34m(\u001b[0m\u001b[0murl\u001b[0m\u001b[0;34m,\u001b[0m \u001b[0mparams\u001b[0m\u001b[0;34m=\u001b[0m\u001b[0mpayload\u001b[0m\u001b[0;34m)\u001b[0m\u001b[0;34m\u001b[0m\u001b[0;34m\u001b[0m\u001b[0m\n\u001b[1;32m     13\u001b[0m     \u001b[0mret\u001b[0m \u001b[0;34m=\u001b[0m \u001b[0mBeautifulSoup\u001b[0m\u001b[0;34m(\u001b[0m\u001b[0mr\u001b[0m\u001b[0;34m.\u001b[0m\u001b[0mcontent\u001b[0m\u001b[0;34m,\u001b[0m\u001b[0;34m'lxml'\u001b[0m\u001b[0;34m)\u001b[0m\u001b[0;34m\u001b[0m\u001b[0;34m\u001b[0m\u001b[0m\n\u001b[0;32m---> 14\u001b[0;31m     \u001b[0mlat\u001b[0m \u001b[0;34m=\u001b[0m \u001b[0mret\u001b[0m\u001b[0;34m.\u001b[0m\u001b[0mfind\u001b[0m\u001b[0;34m(\u001b[0m\u001b[0;34m'lat'\u001b[0m\u001b[0;34m)\u001b[0m\u001b[0;34m.\u001b[0m\u001b[0mstring\u001b[0m\u001b[0;34m\u001b[0m\u001b[0;34m\u001b[0m\u001b[0m\n\u001b[0m\u001b[1;32m     15\u001b[0m     \u001b[0mlon\u001b[0m \u001b[0;34m=\u001b[0m \u001b[0mret\u001b[0m\u001b[0;34m.\u001b[0m\u001b[0mfind\u001b[0m\u001b[0;34m(\u001b[0m\u001b[0;34m'lng'\u001b[0m\u001b[0;34m)\u001b[0m\u001b[0;34m.\u001b[0m\u001b[0mstring\u001b[0m\u001b[0;34m\u001b[0m\u001b[0;34m\u001b[0m\u001b[0m\n\u001b[1;32m     16\u001b[0m     \u001b[0mlatlons\u001b[0m\u001b[0;34m.\u001b[0m\u001b[0mappend\u001b[0m\u001b[0;34m(\u001b[0m\u001b[0;34m[\u001b[0m\u001b[0mlat\u001b[0m\u001b[0;34m,\u001b[0m\u001b[0mlon\u001b[0m\u001b[0;34m]\u001b[0m\u001b[0;34m)\u001b[0m\u001b[0;34m\u001b[0m\u001b[0;34m\u001b[0m\u001b[0m\n",
            "\u001b[0;31mAttributeError\u001b[0m: 'NoneType' object has no attribute 'string'"
          ]
        }
      ]
    },
    {
      "cell_type": "code",
      "metadata": {
        "id": "H2TXSmeH3HVE",
        "colab_type": "code",
        "colab": {}
      },
      "source": [
        "pd.DataFrame(lons,columns=['latitude', 'longitute']).to_csv('./drive/My Drive/rent_latitude_and_longitute.csv', index=False,)"
      ],
      "execution_count": 0,
      "outputs": []
    },
    {
      "cell_type": "code",
      "metadata": {
        "id": "fobrNbM53f7l",
        "colab_type": "code",
        "colab": {}
      },
      "source": [
        ""
      ],
      "execution_count": 0,
      "outputs": []
    }
  ]
}